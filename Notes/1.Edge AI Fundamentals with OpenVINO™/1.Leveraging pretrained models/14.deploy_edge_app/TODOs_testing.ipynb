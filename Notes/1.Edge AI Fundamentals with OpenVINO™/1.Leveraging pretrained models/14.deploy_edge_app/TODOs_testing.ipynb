{
 "cells": [
  {
   "cell_type": "markdown",
   "metadata": {},
   "source": [
    "## TODOs"
   ]
  },
  {
   "cell_type": "markdown",
   "metadata": {},
   "source": [
    "\n",
    "\n",
    "* In handle_models.py, you will need to implement handle_pose, handle_text, and handle_car.\n",
    "\n",
    "* In app.py, first, you'll need to use the input shape of the network to call the preprocessing function.\n",
    "* Then, you need to call handle_output with the appropriate model argument in order to get the right handling function.\n",
    "* With that function, you can then feed the output of the inference request in in order to extract the output.\n",
    "\n",
    "* Note that there is some additional post-processing done for you in create_output_image within app.py to help display the output back onto the input image."
   ]
  },
  {
   "cell_type": "markdown",
   "metadata": {},
   "source": [
    "## Testing the apps\n",
    "To test your implementations, you can use app.py to run each edge application, with the following arguments:\n",
    "\n",
    "* -t: The model type, which should be one of \"POSE\", \"TEXT\", or \"CAR_META\"\n",
    "* -m: The location of the model .xml file\n",
    "* -i: The location of the input image used for testing\n",
    "* -c: A CPU extension file, if applicable. See below for what this is for the workspace. The results of your output will be saved down for viewing in the outputs directory."
   ]
  },
  {
   "cell_type": "markdown",
   "metadata": {},
   "source": [
    "### Note:\n",
    "We are using the 2019R3 version of the OpenVINO™ Toolkit in the classroom. In 2020R1 (and likely future updates),` CPU extensions no longer need to be added to the Inference Engine`. As such, `if you are working locally with the latest version of the toolkit, you'll want to remove any mentions of the CPU extension from the code for it to work appropriately.`"
   ]
  }
 ],
 "metadata": {
  "kernelspec": {
   "display_name": "Python 3",
   "language": "python",
   "name": "python3"
  },
  "language_info": {
   "codemirror_mode": {
    "name": "ipython",
    "version": 3
   },
   "file_extension": ".py",
   "mimetype": "text/x-python",
   "name": "python",
   "nbconvert_exporter": "python",
   "pygments_lexer": "ipython3",
   "version": "3.7.7"
  }
 },
 "nbformat": 4,
 "nbformat_minor": 4
}
