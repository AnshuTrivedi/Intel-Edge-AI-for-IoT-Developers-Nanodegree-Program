{
 "cells": [
  {
   "cell_type": "markdown",
   "metadata": {},
   "source": [
    "* The OpenVINO™ Toolkit’s name comes from `“Open Visual Inferencing and Neural Network Optimization”`. \n",
    "\n",
    "\n",
    "* It is largely `focused around optimizing neural network inference`, and is `open source`.\n",
    "\n",
    "\n",
    "* It is developed by Intel®, and helps support `fast inference across Intel® CPUs, GPUs, FPGAs and Neural Compute Stick with a       common API`.\n",
    "\n",
    "\n",
    "* By `optimizing for model speed and size`, OpenVINO™ enables running at the edge.\n",
    "  * This does not mean an increase in inference accuracy - this needs to be done in training beforehand. \n",
    "  * The `smaller, quicker models` OpenVINO™ generates, along with the hardware optimizations it provides, are `great for lower      resource applications`.\n",
    "  * For example, an `IoT device does not have the benefit of multiple GPUs and unlimited memory space to run its apps.`\n",
    "\n",
    "**An open source library udeful for edge depoyment due to its performance maximizations and pretrained models**"
   ]
  }
 ],
 "metadata": {
  "kernelspec": {
   "display_name": "Python 3",
   "language": "python",
   "name": "python3"
  },
  "language_info": {
   "codemirror_mode": {
    "name": "ipython",
    "version": 3
   },
   "file_extension": ".py",
   "mimetype": "text/x-python",
   "name": "python",
   "nbconvert_exporter": "python",
   "pygments_lexer": "ipython3",
   "version": "3.7.7"
  }
 },
 "nbformat": 4,
 "nbformat_minor": 4
}
