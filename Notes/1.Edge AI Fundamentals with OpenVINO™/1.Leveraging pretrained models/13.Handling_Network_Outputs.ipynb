{
 "cells": [
  {
   "cell_type": "markdown",
   "metadata": {},
   "source": [
    "* Like the computer vision model types we discussed earlier, we covered the `primary outputs those networks create: classes, bounding boxes, and semantic labels`.\n",
    "\n",
    "\n",
    "\n",
    "* Classification networks typically output an array with the softmax probabilities by class; the argmax of those probabilities can be matched up to an array by class for the prediction.\n",
    "\n",
    "* Bounding boxes typically come out with multiple bounding box detections per image, which each box first having a class and confidence. Low confidence detections can be ignored. From there, there are also an additional four values, two of which are an X, Y pair, while the other may be the opposite corner pair of the bounding box, or otherwise a height and width.\n",
    "\n",
    "\n",
    "\n",
    "* `Semantic labels give the class for each pixel`. Sometimes, `these are flattened in the output, or a different size than the original image, and need to be reshaped or resized to map directly back to the input`."
   ]
  },
  {
   "cell_type": "markdown",
   "metadata": {},
   "source": [
    "* In a network like SSD that we discussed earlier, the output is a series of bounding boxes for potential object detections, typically also including a confidence threshold, or how confident the model is about that particular detection.\n",
    "\n",
    "* Therefore, inference performed on a given image will output an array with multiple bounding box predictions including: the `class of the object, the confidence, and two corners (made of xmin, ymin, xmax, and ymax) that make up the bounding box, in that order`."
   ]
  },
  {
   "cell_type": "markdown",
   "metadata": {},
   "source": [
    "```for box in output:\n",
    "    if box[1] > conf_threshold:\n",
    "        xmin = int(box[2] * width)\n",
    "        ymin = int(box[3] * height)\n",
    "        xmax = int(box[4] * width)\n",
    "        ymax = int(box[5] * height)```"
   ]
  },
  {
   "cell_type": "markdown",
   "metadata": {},
   "source": [
    "### outputs-classes\n",
    "* classification models often have straightforward outputs\n",
    "* emotion recognition model  (1X5X1X1)\n",
    "* softmax classifier of 5 emotions classes\n",
    "* get 'Argmax' of the output and map to emotion names"
   ]
  },
  {
   "cell_type": "markdown",
   "metadata": {},
   "source": [
    "### outputs- bounding boxes\n",
    "* usually contain information in number of boxes,class of box,confidence level and x,y information \n",
    "* need to rescale the box if input image was resized\n",
    "* see pedestrian  model detection as example"
   ]
  },
  {
   "cell_type": "markdown",
   "metadata": {},
   "source": [
    "### outputs-semantic classes\n",
    "* output is pixel by pixel\n",
    "* may need to be resized or reshape to match input image\n",
    "* advanced roadside identification models maps 1 to 1"
   ]
  },
  {
   "cell_type": "markdown",
   "metadata": {},
   "source": [
    "**Further Research**\n",
    "\n",
    "* [Here](https://towardsdatascience.com/understanding-ssd-multibox-real-time-object-detection-in-deep-learning-495ef744fab) is a great write-up on working with SSD and its output\n",
    "* [This](https://thegradient.pub/semantic-segmentation/) post gets into more of the differences in moving from models with bounding boxes to those using semantic segmentation"
   ]
  }
 ],
 "metadata": {
  "kernelspec": {
   "display_name": "Python 3",
   "language": "python",
   "name": "python3"
  },
  "language_info": {
   "codemirror_mode": {
    "name": "ipython",
    "version": 3
   },
   "file_extension": ".py",
   "mimetype": "text/x-python",
   "name": "python",
   "nbconvert_exporter": "python",
   "pygments_lexer": "ipython3",
   "version": "3.7.7"
  }
 },
 "nbformat": 4,
 "nbformat_minor": 4
}
