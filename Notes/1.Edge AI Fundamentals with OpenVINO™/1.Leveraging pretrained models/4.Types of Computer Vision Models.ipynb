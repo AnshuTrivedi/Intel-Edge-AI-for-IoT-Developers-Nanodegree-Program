{
 "cells": [
  {
   "cell_type": "markdown",
   "metadata": {},
   "source": [
    "### TYPE OF MODEL\n",
    "\n",
    "* **Classidication**\n",
    "\n",
    "    Determines what an object in a given image is, although not where in the image it is located.\n",
    "\n",
    "\n",
    "* **Segmentation**\n",
    "\n",
    "    Determines the location of an object in an image on a pixel-by-pixel basis.\n",
    "\n",
    "\n",
    "* **Detection**\n",
    "\n",
    "    Determines the location of an object using some type of markers like a bounding box around the area the object is in.\n",
    "\n",
    "\n"
   ]
  },
  {
   "cell_type": "markdown",
   "metadata": {},
   "source": [
    "**Further Research**\n",
    "\n",
    "Here is a useful [Medium post](https://medium.com/analytics-vidhya/image-classification-vs-object-detection-vs-image-segmentation-f36db85fe81) if you want to go a little further on types of computer vision models."
   ]
  }
 ],
 "metadata": {
  "kernelspec": {
   "display_name": "Python 3",
   "language": "python",
   "name": "python3"
  },
  "language_info": {
   "codemirror_mode": {
    "name": "ipython",
    "version": 3
   },
   "file_extension": ".py",
   "mimetype": "text/x-python",
   "name": "python",
   "nbconvert_exporter": "python",
   "pygments_lexer": "ipython3",
   "version": "3.7.7"
  }
 },
 "nbformat": 4,
 "nbformat_minor": 4
}
