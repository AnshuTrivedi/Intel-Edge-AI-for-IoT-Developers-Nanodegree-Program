{
 "cells": [
  {
   "cell_type": "markdown",
   "metadata": {},
   "source": [
    "* `Using the documentation pages for each model,` I ended up noticing they needed essentially the same preprocessing, outside of the height and width of the input to the network. \n",
    "* The images coming from cv2.imread were already going to be BGR, and all the models wanted BGR inputs, so I didn't need to do anything there.\n",
    "* However, each image was coming in as `height x width x channels`, and each of these networks `wanted channels first`, along with an extra dimension at the start for batch size.\n",
    "* So, for each network, the preprocessing needed to \n",
    "  * 1) re-size the image,\n",
    "  * 2) move the channels from last to first, and \n",
    "  * 3) add an extra dimension of 1 to the start. \n",
    "  \n",
    "Here is the function I created for this, which I could call for each separate network:"
   ]
  },
  {
   "cell_type": "code",
   "execution_count": null,
   "metadata": {},
   "outputs": [],
   "source": [
    "import cv2\n",
    "import numpy as np\n",
    "\n",
    "def processing(input_image,height,width):\n",
    "    image=cv2.resize(input_image,(width,height))\n",
    "    image=image.transpose((2,0,1))\n",
    "    image=image.reshape(1,3,height,width)\n",
    "    return image\n",
    "\n",
    "def pose_estimation(input_image):\n",
    "    '''\n",
    "    Given some input image, preprocess the image so that\n",
    "    it can be used with the related pose estimation model\n",
    "    you downloaded previously. You can use cv2.resize()\n",
    "    to resize the image.\n",
    "    '''\n",
    "    preprocessed_image = np.copy(input_image)\n",
    "    preprocessed_image=processing(preprocessed_image,256,456)\n",
    "\n",
    "    # TODO: Preprocess the image for the pose estimation model\n",
    "\n",
    "    return preprocessed_image\n",
    "\n",
    "\n",
    "def text_detection(input_image):\n",
    "    '''\n",
    "    Given some input image, preprocess the image so that\n",
    "    it can be used with the related text detection model\n",
    "    you downloaded previously. You can use cv2.resize()\n",
    "    to resize the image.\n",
    "    '''\n",
    "    preprocessed_image = np.copy(input_image)\n",
    "\n",
    "    # TODO: Preprocess the image for the text detection model\n",
    "    preprocessed_image=processing(preprocessed_image,768,1280)\n",
    "    return preprocessed_image\n",
    "\n",
    "\n",
    "def car_meta(input_image):\n",
    "    '''\n",
    "    Given some input image, preprocess the image so that\n",
    "    it can be used with the related car metadata model\n",
    "    you downloaded previously. You can use cv2.resize()\n",
    "    to resize the image.\n",
    "    '''\n",
    "    preprocessed_image = np.copy(input_image)\n",
    "\n",
    "    # TODO: Preprocess the image for the car metadata model\n",
    "    preprocessed_image=processing(preprocessed_image,72,72)\n",
    "    return preprocessed_image\n"
   ]
  }
 ],
 "metadata": {
  "kernelspec": {
   "display_name": "Python 3",
   "language": "python",
   "name": "python3"
  },
  "language_info": {
   "codemirror_mode": {
    "name": "ipython",
    "version": 3
   },
   "file_extension": ".py",
   "mimetype": "text/x-python",
   "name": "python",
   "nbconvert_exporter": "python",
   "pygments_lexer": "ipython3",
   "version": "3.7.7"
  }
 },
 "nbformat": 4,
 "nbformat_minor": 4
}
