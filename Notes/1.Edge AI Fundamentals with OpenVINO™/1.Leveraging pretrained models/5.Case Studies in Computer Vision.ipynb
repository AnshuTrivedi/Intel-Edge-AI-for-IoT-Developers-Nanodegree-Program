{
 "cells": [
  {
   "cell_type": "markdown",
   "metadata": {},
   "source": [
    "### SSD\n",
    "SSD is an object detection network that combined classification with object detection through the use of default bounding boxes at different network levels.\n",
    "\n",
    "### ResNet\n",
    "* ResNet utilized residual layers to “skip” over sections of layers, helping to avoid the vanishing gradient problem with very deep neural networks.\n",
    "* The ResNet architecture itself, at multiple different numbers of layers, was shown to converge faster during training than a “plain” network without the residual layers.\n",
    "\n",
    "### MobileNet\n",
    "MobileNet utilized layers like 1x1 convolutions to help cut down on computational complexity and network size, leading to fast inference without substantial decrease in accuracy.\n",
    "\n",
    "One additional note here on the ResNet architecture - the paper itself actually theorizes that `very deep neural networks have convergence issues due to exponentially lower convergence rates, as opposed to just the vanishing gradient problem`.\n",
    "* The `vanishing gradient problem` is also thought to be helped by the `use of normalization of inputs to each different layer`,   which is not specific to ResNet. "
   ]
  },
  {
   "cell_type": "markdown",
   "metadata": {},
   "source": [
    "# Further Research\n",
    "Getting used to reading research papers is a key skill to build when working with AI and Computer Vision. Below, you can find the original research papers on some of the networks we discussed in this section.\n",
    "\n",
    "* [SSD](https://arxiv.org/abs/1512.02325)\n",
    "* [YOLO](https://arxiv.org/abs/1506.02640)\n",
    "* [Faster RCNN](https://arxiv.org/abs/1506.01497)\n",
    "* [MobileNet](https://arxiv.org/abs/1704.04861)\n",
    "* [ResNet](https://arxiv.org/abs/1512.03385)\n",
    "* [Inception](https://arxiv.org/pdf/1409.4842.pdf)"
   ]
  }
 ],
 "metadata": {
  "kernelspec": {
   "display_name": "Python 3",
   "language": "python",
   "name": "python3"
  },
  "language_info": {
   "codemirror_mode": {
    "name": "ipython",
    "version": 3
   },
   "file_extension": ".py",
   "mimetype": "text/x-python",
   "name": "python",
   "nbconvert_exporter": "python",
   "pygments_lexer": "ipython3",
   "version": "3.7.7"
  }
 },
 "nbformat": 4,
 "nbformat_minor": 4
}
