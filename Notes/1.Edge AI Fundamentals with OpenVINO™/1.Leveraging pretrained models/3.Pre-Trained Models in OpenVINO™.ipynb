{
 "cells": [
  {
   "cell_type": "markdown",
   "metadata": {},
   "source": [
    "* In general, `pre-trained models refer to models where training has already occurred, and often have high, or even cutting-edge accuracy`. \n",
    "\n",
    "\n",
    "* Using pre-trained models `avoids the need for large-scale data collection and long, costly training`. \n",
    "* Given knowledge of `how to preprocess the inputs and handle the outputs of the network, you can plug these directly into your own app`.\n",
    "\n",
    "\n",
    "\n",
    "* In OpenVINO™, `Pre-Trained Models refer specifically to the Model Zoo`, in which the Free Model Set contains pre-trained models `already converted using the Model Optimizer`. These models can be used directly with the Inference Engine.\n",
    "\n",
    "**Further Research**\n",
    "\n",
    "We’ll come back to the various pre-trained models available with the OpenVINO™ Toolkit shortly, but you can get a headstart by checking out the documentation [here](https://software.intel.com/en-us/openvino-toolkit/documentation/pretrained-models)."
   ]
  }
 ],
 "metadata": {
  "kernelspec": {
   "display_name": "Python 3",
   "language": "python",
   "name": "python3"
  },
  "language_info": {
   "codemirror_mode": {
    "name": "ipython",
    "version": 3
   },
   "file_extension": ".py",
   "mimetype": "text/x-python",
   "name": "python",
   "nbconvert_exporter": "python",
   "pygments_lexer": "ipython3",
   "version": "3.7.7"
  }
 },
 "nbformat": 4,
 "nbformat_minor": 4
}
