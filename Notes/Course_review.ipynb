{
 "cells": [
  {
   "cell_type": "markdown",
   "metadata": {},
   "source": [
    "* Software Optimization\n",
    "* Performance Metrics\n",
    "* Reducing model parameters\n",
    "  * Calculating model Flops and Macs\n",
    "  * Layerwise performance\n",
    "  * Using efficient layers\n",
    "  * Model pruning"
   ]
  },
  {
   "cell_type": "markdown",
   "metadata": {},
   "source": [
    "## First course\n",
    "In the first course, you learned about what edge computing is, how to use the model downloader to download models, and how to create Inference Engine pipelines.\n",
    "\n",
    "## Second course\n",
    "In the second course, you learned about different hardware types and their characteristics. You learned how to weigh the advantages and disadvantages of each hardware device and compare performance across devices in order to suggest devices for different real-world scenarios.\n",
    "\n",
    "## Third course\n",
    "In this last course, you learned about the different optimization techniques and tools you can use to improve the performance of your edge computing application. You first learned how to measure the complexities of your model and then learned different techniques to reduce both the size of your model and the number of operations in your model. You learned how to use the VTune Amplifier to check for hotspots in your application code. And, finally, you learned how to package your model so that it can be deployed to different devices."
   ]
  }
 ],
 "metadata": {
  "kernelspec": {
   "display_name": "Python 3",
   "language": "python",
   "name": "python3"
  },
  "language_info": {
   "codemirror_mode": {
    "name": "ipython",
    "version": 3
   },
   "file_extension": ".py",
   "mimetype": "text/x-python",
   "name": "python",
   "nbconvert_exporter": "python",
   "pygments_lexer": "ipython3",
   "version": "3.7.7"
  }
 },
 "nbformat": 4,
 "nbformat_minor": 4
}
