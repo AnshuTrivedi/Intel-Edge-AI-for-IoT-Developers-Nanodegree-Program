{
 "cells": [
  {
   "cell_type": "markdown",
   "metadata": {},
   "source": [
    "# Lesson Overview"
   ]
  },
  {
   "cell_type": "markdown",
   "metadata": {},
   "source": [
    "Here's what we'll be covering in this lesson:\n",
    "\n",
    "* How to measure the performance of our model\n",
    "  * Using FLOPs as a performance metric\n",
    "  * Using MACs as a performance metric\n",
    "* How to use efficient layers in our model\n",
    "  * Separable Convolutions\n",
    "  * Pooling Layers\n",
    "* How to use OpenVINO to measure the layerwise performance\n",
    "* Model pruning"
   ]
  }
 ],
 "metadata": {
  "kernelspec": {
   "display_name": "Python 3",
   "language": "python",
   "name": "python3"
  },
  "language_info": {
   "codemirror_mode": {
    "name": "ipython",
    "version": 3
   },
   "file_extension": ".py",
   "mimetype": "text/x-python",
   "name": "python",
   "nbconvert_exporter": "python",
   "pygments_lexer": "ipython3",
   "version": "3.7.7"
  }
 },
 "nbformat": 4,
 "nbformat_minor": 4
}
