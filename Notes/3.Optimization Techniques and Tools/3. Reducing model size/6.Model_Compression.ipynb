{
 "cells": [
  {
   "cell_type": "markdown",
   "metadata": {},
   "source": [
    "## Model Compression\n",
    "* `One important—but often forgotten—metric that we should optimize is memory. We can do this using model compression.`\n",
    "\n",
    "* `Model compression refers to a group of algorithms that help us reduce the amount of memory needed to store our model, and also make our models more compact (in terms of the number of parameters).`\n",
    "\n",
    "In fact, `you have already learned about a model-compression algorithm, quantization,` where we reduce the number of bits required to represent each weight."
   ]
  },
  {
   "cell_type": "markdown",
   "metadata": {},
   "source": [
    "## Weight Sharing\n",
    "\n",
    "Another way to compress our model is `to reduce the number of weights that we store`. This is known as weight sharing.\n",
    "\n",
    "In weight sharing, the `goal is for multiple weights to share the same value. This reduces the number of unique weights `that need to be stored, thus saving memory and reducing model size."
   ]
  },
  {
   "cell_type": "markdown",
   "metadata": {},
   "source": [
    "Further Learning\n",
    "Here are the articles we referenced in the video, in case you want to check them out:\n",
    "\n",
    "[Deep Compression: Compressing Deep Neural Networks with Pruning, Trained Quantization and Huffman Coding (Han et al., 2016)](https://video.udacity-data.com/topher/2020/March/5e6e9c50_deep-compression-compressing-deep-neural-networks-with-pruning-trained-quantization-and-huffman-coding/deep-compression-compressing-deep-neural-networks-with-pruning-trained-quantization-and-huffman-coding.pdf)\n",
    "\n",
    "[Compressing Neural Networks with the Hashing Trick (Chen et al, 2015)](https://video.udacity-data.com/topher/2020/March/5e6e9c9f_compressing-neural-networks-with-the-hashing-trick/compressing-neural-networks-with-the-hashing-trick.pdf)"
   ]
  }
 ],
 "metadata": {
  "kernelspec": {
   "display_name": "Python 3",
   "language": "python",
   "name": "python3"
  },
  "language_info": {
   "codemirror_mode": {
    "name": "ipython",
    "version": 3
   },
   "file_extension": ".py",
   "mimetype": "text/x-python",
   "name": "python",
   "nbconvert_exporter": "python",
   "pygments_lexer": "ipython3",
   "version": "3.7.7"
  }
 },
 "nbformat": 4,
 "nbformat_minor": 4
}
