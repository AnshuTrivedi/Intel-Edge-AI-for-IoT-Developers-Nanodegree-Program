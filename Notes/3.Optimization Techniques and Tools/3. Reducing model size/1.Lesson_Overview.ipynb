{
 "cells": [
  {
   "cell_type": "markdown",
   "metadata": {},
   "source": [
    "* When we train a model we want our model to have high accuracy. However models with these higher accuracies are often large and complex.\n",
    "* For instance models trained to get better results on Imagenet data use compicated custom layers which make them computaionally complex\n",
    "* Large models can be problematic in edge computing system because they require a lot of memory to store and are computationally expansive.\n",
    "* If model is too large then edge device may not have the memory or computaional power to produce results quickly."
   ]
  },
  {
   "cell_type": "markdown",
   "metadata": {},
   "source": [
    "In this lesson you will **`learn software optimization techniques that can be used to reduce size of model`** so they ca nbe easily deployed at edge.\n",
    "Also how to use OpenVino to use some of techniques."
   ]
  },
  {
   "cell_type": "markdown",
   "metadata": {},
   "source": [
    "In this lesson, we'll be covering different techniques for benchmarking model size and reducing model size. Here are the main topics we'll discuss:\n",
    "\n",
    "* **Quantization**\n",
    "\n",
    "reduce size of model by reducing no of bits we use to store each weight,by reducing space required for each weight we can reduce model size without actually reducing no of weights.\n",
    "\n",
    "* **DL Workbench** (OpenVINO tool) (used to measure performance of model,benchmark model or also to quantize )\n",
    "  * Benchmark Models\n",
    "  * Quantize Models\n",
    "* **Weight Sharing** (it works by reducing unique no of weights that we have to store)\n",
    "  * Zip a model\n",
    "* **Knowledge Distillation**\n",
    "We train larger model and transfer it's knowledge to smaller model "
   ]
  }
 ],
 "metadata": {
  "kernelspec": {
   "display_name": "Python 3",
   "language": "python",
   "name": "python3"
  },
  "language_info": {
   "codemirror_mode": {
    "name": "ipython",
    "version": 3
   },
   "file_extension": ".py",
   "mimetype": "text/x-python",
   "name": "python",
   "nbconvert_exporter": "python",
   "pygments_lexer": "ipython3",
   "version": "3.7.7"
  }
 },
 "nbformat": 4,
 "nbformat_minor": 4
}
