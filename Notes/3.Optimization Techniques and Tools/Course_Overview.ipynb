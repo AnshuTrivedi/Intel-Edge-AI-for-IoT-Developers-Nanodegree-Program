{
 "cells": [
  {
   "cell_type": "markdown",
   "metadata": {},
   "source": [
    "**Course Outline**\n",
    "\n",
    "We'll be covering a wide range of tools and concepts that can help us achieve these optimization goals.\n",
    "\n",
    "* **Performance Metrics**\n",
    "* **Reducing Model Operations**\n",
    "   * Calculating Model Complexity\n",
    "   * Using Efficient Layers\n",
    "   * Comparing Layerwise Performance\n",
    "   * Model Pruning\n",
    "* **Reducing Model Size**\n",
    "  * Quantization\n",
    "  * Quantizing using DL Workbench\n",
    "  * Model Compression\n",
    "  * Knowledge Distillation\n",
    "* **Other Optimization Techniques**\n",
    "  * VTune Amplifier\n",
    "  * Packaging your Application"
   ]
  },
  {
   "cell_type": "markdown",
   "metadata": {},
   "source": [
    "# Why Optimize?\n",
    "**Remember, two common reasons for doing software optimization are:**\n",
    "\n",
    "* To get better performance without changing the existing design or hardware\n",
    "* To use less system resources, in order to free them up for other parts of your application (or another application running on the same hardware)"
   ]
  }
 ],
 "metadata": {
  "kernelspec": {
   "display_name": "Python 3",
   "language": "python",
   "name": "python3"
  },
  "language_info": {
   "codemirror_mode": {
    "name": "ipython",
    "version": 3
   },
   "file_extension": ".py",
   "mimetype": "text/x-python",
   "name": "python",
   "nbconvert_exporter": "python",
   "pygments_lexer": "ipython3",
   "version": "3.7.7"
  }
 },
 "nbformat": 4,
 "nbformat_minor": 4
}
