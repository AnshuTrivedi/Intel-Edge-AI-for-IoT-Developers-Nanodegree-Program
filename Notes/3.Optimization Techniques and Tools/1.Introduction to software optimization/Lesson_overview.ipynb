{
 "cells": [
  {
   "cell_type": "markdown",
   "metadata": {},
   "source": [
    "# Lession Overview"
   ]
  },
  {
   "cell_type": "markdown",
   "metadata": {},
   "source": [
    "**Here's what we'll be covering in this lesson:**\n",
    "\n",
    "* What is Software Optimization?\n",
    "* Why do we Need Software Optimization?\n",
    "* Types of Software Optimization\n",
    "* When to use Optimization Techniques\n",
    "* Metrics to Measure Performance\n",
    "* Other Metrics\n",
    "  * Power\n",
    "  * Cost\n",
    "* When do we do Software Optimization?"
   ]
  }
 ],
 "metadata": {
  "kernelspec": {
   "display_name": "Python 3",
   "language": "python",
   "name": "python3"
  },
  "language_info": {
   "codemirror_mode": {
    "name": "ipython",
    "version": 3
   },
   "file_extension": ".py",
   "mimetype": "text/x-python",
   "name": "python",
   "nbconvert_exporter": "python",
   "pygments_lexer": "ipython3",
   "version": "3.7.7"
  }
 },
 "nbformat": 4,
 "nbformat_minor": 4
}
