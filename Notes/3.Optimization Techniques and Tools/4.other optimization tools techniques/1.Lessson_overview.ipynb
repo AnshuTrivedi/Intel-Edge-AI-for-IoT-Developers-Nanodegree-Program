{
 "cells": [
  {
   "cell_type": "markdown",
   "metadata": {},
   "source": [
    "Here are the main topics we'll cover in this lesson:\n",
    "\n",
    "1. Measuring latencies in our code\n",
    "2. Using VTune Amplifier\n",
    "3. Packaging our application\n",
    "\n",
    "In previous lessons we looked at different approaches for optimizing our model. `But in some cases, model inference is not actually the bottleneck—in which case, optimizing the model won't help (and may even do harm by reducing model accuracy)`.\n",
    "\n",
    "When model inference is not the issue, we'll want to consider whether there is room to improve performance by modifying our application code. In this lesson,` we'll look at tools to measure and fix latencies in our code`.\n",
    "\n",
    "Later in the lesson we will `also learn how to package our application code, model and data so that we can easily deploy our model to other devices`. This is especially helpful when you are developing your application in an environment (such as your laptop) that is different from where it will be deployed (such as an edge system with an NCS2)."
   ]
  }
 ],
 "metadata": {
  "kernelspec": {
   "display_name": "Python 3",
   "language": "python",
   "name": "python3"
  },
  "language_info": {
   "codemirror_mode": {
    "name": "ipython",
    "version": 3
   },
   "file_extension": ".py",
   "mimetype": "text/x-python",
   "name": "python",
   "nbconvert_exporter": "python",
   "pygments_lexer": "ipython3",
   "version": "3.7.7"
  }
 },
 "nbformat": 4,
 "nbformat_minor": 4
}
