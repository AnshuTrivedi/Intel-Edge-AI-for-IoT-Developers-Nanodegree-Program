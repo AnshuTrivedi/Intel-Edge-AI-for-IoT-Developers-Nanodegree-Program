{
 "cells": [
  {
   "cell_type": "markdown",
   "metadata": {},
   "source": [
    "# Advanced Concepts in Intel VTune\n",
    "\n",
    "So far, you have seen `how to get simple details about the run time and CPU utilisation of your application code using the VTune Amplifier.`\n",
    "\n",
    "In this lesson, we will be learning how to drill down further and `see which lines in your application are the bottlenecks`.\n",
    "\n",
    "I will be showing these techniques using the vtune_project application that I used previously. To follow along with this walkthrough, you can either use the same application or use one of your own applications."
   ]
  },
  {
   "cell_type": "markdown",
   "metadata": {},
   "source": [
    "Can you match the color with what it specifies in the timeline pane?\n",
    "Submit to check your answer choices!\n",
    "\n",
    "|COLOR|DESCRIPTION|\n",
    "|----------|---------|\n",
    "|Green|running time|\n",
    "|Brown|CPu utilization|\n",
    "|Red  |spin and overhead percentage|"
   ]
  },
  {
   "cell_type": "markdown",
   "metadata": {},
   "source": [
    "## Exercise: Advanced Profiling Using VTune Amplifier"
   ]
  },
  {
   "cell_type": "markdown",
   "metadata": {},
   "source": [
    "For this exercise, you will have to drill down into your application code and find the lines of code that was a bottleneck in your application. You can use either your own application, or you can use the application that I have been using previously: vtune_project.\n",
    "\n",
    "At the bottom of this page, you will find a solution walkthrough. You'll get the most out of the exercise if you first give it a try on your own, but don't hesitate to check out the walkthrough if you get stuck.\n",
    "\n",
    "For this exercise, you will be drilling down into the code and finding the exact locations"
   ]
  },
  {
   "cell_type": "markdown",
   "metadata": {},
   "source": [
    "For this exercise, you will be drilling down into the code and finding the exact locations of hotspots in your code. You need to complete the following tasks:\n",
    "\n",
    "1. Switch to botom-up tab and find thread or function that is taking up most of time in your application\n",
    "2. Find exact line no in your application code where there is bottleneck/hotspot"
   ]
  },
  {
   "cell_type": "markdown",
   "metadata": {},
   "source": [
    "### Benefit of advanced profiling\n",
    "* It can help you see hardware usage and help you optimize your application to utilize all your underlying hardware\n",
    "* You can use it to find areas of your code that are not not optimized and fix them"
   ]
  },
  {
   "cell_type": "markdown",
   "metadata": {},
   "source": [
    "In conclusion, the `VTune Amplifier can help us check for hotspots in our application code and also help us see the effective hardware utilization`.\n",
    "* You should keep in mind that the` VTune Amplifier only gives performance results of your application code and not your model`. \n",
    "* `If there are delays in your application, but your code does not have any major hotspots then you should use the DL Workbench to measure the performance of your model.`"
   ]
  }
 ],
 "metadata": {
  "kernelspec": {
   "display_name": "Python 3",
   "language": "python",
   "name": "python3"
  },
  "language_info": {
   "codemirror_mode": {
    "name": "ipython",
    "version": 3
   },
   "file_extension": ".py",
   "mimetype": "text/x-python",
   "name": "python",
   "nbconvert_exporter": "python",
   "pygments_lexer": "ipython3",
   "version": "3.7.7"
  }
 },
 "nbformat": 4,
 "nbformat_minor": 4
}
