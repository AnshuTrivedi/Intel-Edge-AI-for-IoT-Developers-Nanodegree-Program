{
 "cells": [
  {
   "cell_type": "markdown",
   "metadata": {},
   "source": [
    "In this course, we covered the four hardware solutions:\n",
    "\n",
    "* CPU\n",
    "* IGPU\n",
    "* VPU\n",
    "* FPGA\n",
    "\n",
    "\n",
    " * We looked at key characteristics of each hardware type and we considered how different client needs should be considered when selecting the hardware.\n",
    "\n",
    "* We also learned about the importance of testing your edge AI application on different hardware devices to see which gives the best performance.\n",
    "\n",
    "* And finally, we learned how to conduct these tests using the Intel DevCloud, so that you can compare performance before purchasing any hardware."
   ]
  }
 ],
 "metadata": {
  "kernelspec": {
   "display_name": "Python 3",
   "language": "python",
   "name": "python3"
  },
  "language_info": {
   "codemirror_mode": {
    "name": "ipython",
    "version": 3
   },
   "file_extension": ".py",
   "mimetype": "text/x-python",
   "name": "python",
   "nbconvert_exporter": "python",
   "pygments_lexer": "ipython3",
   "version": "3.7.7"
  }
 },
 "nbformat": 4,
 "nbformat_minor": 4
}
