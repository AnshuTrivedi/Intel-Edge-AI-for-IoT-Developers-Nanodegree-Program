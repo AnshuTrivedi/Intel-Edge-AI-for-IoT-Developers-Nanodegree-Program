{
 "cells": [
  {
   "cell_type": "markdown",
   "metadata": {},
   "source": [
    "# CPU Scenario\n",
    "\n",
    "Ventilation is a serious concern in an underground coal mine as there is a constant fear of unsafe toxicity levels for mine workers.\n",
    "\n",
    "The mining company would like to install a system that would enable monitoring of the ventilation and toxicity levels in the mine shafts. Sensors would be placed in the mine shafts themselves, and these sensors would be connected to pre-existing PCs that are located near the entrance. The sensors would detect the air quality and relay this information back to the computers. If low air quality or high toxicity levels are detected, the system would quickly raise an alert so the mine could be evacuated. The ambient temperature at the mine’s entrance ranges from 15° to 40° C and noise levels are 80 to 120 decibels (dB).\n",
    "\n",
    "The mining company has a budget of $1,000 per PC to upgrade any hardware necessary. Based on the existing hardware, a power consumption of up to 100 watts from the CPU can be supported.\n",
    "\n",
    "You are the IoT engineer and your job is to identify what hardware might work for this system. One of the possibilities you're considering is the Xeon \"Coffee Lake\" (E-2176G) Processor. Your goal on this page will be to determine whether this processor meets the requirements of the client."
   ]
  },
  {
   "cell_type": "markdown",
   "metadata": {},
   "source": [
    "`QUESTION 1 OF 5`\n",
    "\n",
    "**Which of the following factors are relevant requirements that you should consider in evaluating the processor?**\n",
    "(Select all that apply.)\n",
    "\n",
    "1.Available power\n",
    "\n",
    "2.Ambient temperature\n",
    "\n",
    "3.Budget\n",
    "\n",
    "4.Ambient noise\n",
    "\n",
    "Answer: (1,2,3)"
   ]
  },
  {
   "cell_type": "markdown",
   "metadata": {},
   "source": [
    "**Intel Xeon Processor Datasheet**\n",
    "\n",
    "\n",
    "|Code Name\t|Coffee Lake|\n",
    "|-------|---------|\n",
    "|Vertical Segment|\tServer|\n",
    "|Processor Number|\tE-2176G|\n",
    "|Status|\tLaunched|\n",
    "|Launch Date\t|Q3'18|\n",
    "|Lithography|\t14 nm|\n",
    "|Recommended Customer| Price\t$362.00|\n",
    "|Use Conditions|\tPC/Client/Tablet|\n",
    "|# of Cores\t|6|\n",
    "|# of Threads|\t12|\n",
    "|Processor Base Frequency\t|3.70 GHz|\n",
    "|Max Turbo Frequency\t|4.70 GHz|\n",
    "|Cache\t|12 MB SmartCache|\n",
    "|Bus Speed\t|8 GT/s DMI3|\n",
    "|TDP|\t80 W|\n",
    "|Embedded Options Available|\tYes|\n",
    "|Operating Temperature|\t5 to 80C|\n",
    "|Max Memory Size (dependent on memory type)\t|64 GB|\n",
    "|Memory Types|\tDDR4-2666|\n",
    "|Max # of Memory Channels|\t2|\n",
    "|Max Memory Bandwidth\t|41.6 GB/s|\n",
    "|Processor| Graphics\tIntel® UHD Graphics P630|\n",
    "|Package Size\t|37.5mm x 37.5mm|"
   ]
  },
  {
   "cell_type": "markdown",
   "metadata": {},
   "source": [
    "`QUESTION 2 OF 5`\n",
    "\n",
    "**In the previous quiz, you identified the important requirements for consideration. Now, see if you can match each requirement with the relevant specification from the data sheet.**\n",
    "\n",
    "`Temperature range,recommended customer price,operating temperature,TDP,Operating power,Manufacturer list price`\n",
    "\n",
    "|REQUIREMENT|SPECIFICATION|\n",
    "|--------|---------|\n",
    "|Available power|TDP|\n",
    "|Ambient temperature|Operating temperature|\n",
    "|Budget|Recommended customer price|\n"
   ]
  },
  {
   "cell_type": "markdown",
   "metadata": {},
   "source": [
    "`QUESTION 3 OF 5`\n",
    "\n",
    "**Does the TDP of the Xeon \"Coffee Lake\" (E-2176G) Processor satisfy the power requirements of the client?**\n",
    "\n",
    "1.Yes\n",
    "\n",
    "2.NO\n",
    "\n",
    "Answer: Yes"
   ]
  },
  {
   "cell_type": "markdown",
   "metadata": {},
   "source": [
    "`QUESTION 4 OF 5`\n",
    "\n",
    "**Does the operating temperature of the processor satisfy the client's requirements?**\n",
    "\n",
    "1.Yes\n",
    "\n",
    "2.No \n",
    "\n",
    "Answer: Yes"
   ]
  },
  {
   "cell_type": "markdown",
   "metadata": {},
   "source": [
    "`QUESTION 5 OF 5`\n",
    "\n",
    "**Does the price of the processor fit within the budget of the client?**\n",
    "\n",
    "1.Yes\n",
    "\n",
    "2.No\n",
    "\n",
    "Answer:yes"
   ]
  },
  {
   "cell_type": "markdown",
   "metadata": {},
   "source": [
    "If you're curious to learn more about the application of IoT devices and Edge AI in the mining industry, you can check out a great article about it [here](https://www.infosysbpm.com/blogs/sourcing-procurement/Pages/iot-in-mining.aspx)."
   ]
  }
 ],
 "metadata": {
  "kernelspec": {
   "display_name": "Python 3",
   "language": "python",
   "name": "python3"
  },
  "language_info": {
   "codemirror_mode": {
    "name": "ipython",
    "version": 3
   },
   "file_extension": ".py",
   "mimetype": "text/x-python",
   "name": "python",
   "nbconvert_exporter": "python",
   "pygments_lexer": "ipython3",
   "version": "3.7.7"
  }
 },
 "nbformat": 4,
 "nbformat_minor": 4
}
