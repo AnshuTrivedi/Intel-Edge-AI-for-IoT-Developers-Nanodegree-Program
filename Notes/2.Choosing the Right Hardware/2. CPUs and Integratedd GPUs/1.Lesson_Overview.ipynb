{
 "cells": [
  {
   "cell_type": "markdown",
   "metadata": {},
   "source": [
    "### This lesson is all about CPUs and integrated GPUs. Here are the main topics we'll cover:\n",
    "\n",
    "**CPUs**\n",
    "* Basic CPU concepts\n",
    "* Architecture, specifications, and applications of CPUs\n",
    "* How to use a CPU on the DevCloud\n",
    "\n",
    "**Integrated GPUs**\n",
    "* Characteristics and architecture of integrated GPUs\n",
    "* How to use an Integrated GPU on the DevCloud"
   ]
  },
  {
   "cell_type": "markdown",
   "metadata": {},
   "source": [
    "* Intel Processors\n",
    "* Intel Architecture (understanding hardware,architecture can help to choose most suitable device)\n",
    "* Applications of CPU (requirements and constraints help in deciding which CPU to go with)\n",
    "* CPU and DevCloud\n",
    "* Intel integrated GPU\n",
    "* Intel integrated GPU and Devcloud"
   ]
  }
 ],
 "metadata": {
  "kernelspec": {
   "display_name": "Python 3",
   "language": "python",
   "name": "python3"
  },
  "language_info": {
   "codemirror_mode": {
    "name": "ipython",
    "version": 3
   },
   "file_extension": ".py",
   "mimetype": "text/x-python",
   "name": "python",
   "nbconvert_exporter": "python",
   "pygments_lexer": "ipython3",
   "version": "3.7.7"
  }
 },
 "nbformat": 4,
 "nbformat_minor": 4
}
