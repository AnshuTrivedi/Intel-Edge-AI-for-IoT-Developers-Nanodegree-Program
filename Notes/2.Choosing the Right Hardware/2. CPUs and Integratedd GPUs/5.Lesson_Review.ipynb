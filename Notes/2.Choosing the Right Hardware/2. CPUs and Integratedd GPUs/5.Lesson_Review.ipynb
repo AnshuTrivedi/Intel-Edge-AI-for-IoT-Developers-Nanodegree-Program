{
 "cells": [
  {
   "cell_type": "markdown",
   "metadata": {},
   "source": [
    "This lesson was all about CPUs and integrated GPUs. In this lesson, we covered this main topics:\n",
    "\n",
    "* **CPUs**\n",
    "  * Basic CPU concepts\n",
    "  * Architecture, specifications, and applications of CPUs\n",
    "  * How to use a CPU on the DevCloud\n",
    "  \n",
    "* **Integrated GPUs**\n",
    "  * Characteristics and architecture of integrated GPUs\n",
    "  * How to use an Integrated GPU on the DevCloud"
   ]
  },
  {
   "cell_type": "markdown",
   "metadata": {},
   "source": [
    "* Intel Processors\n",
    "* Intel Architecture (help us to choose most suitable device)\n",
    "* Applications of CPU (requirements and constraints helps to decide what CPU go with)\n",
    "* CPU and DevCloud(how to use CPU on Devcloud)\n",
    "* Intel intigrated GPU (how CPU and integrated GPU architecture work together,charactersistics og IGPU and why well suited for      Deep learning)\n",
    "* Integrated GPU and DevCloud (how to use device with IGPU on DevCloud,ran application and compared time with CPU)"
   ]
  }
 ],
 "metadata": {
  "kernelspec": {
   "display_name": "Python 3",
   "language": "python",
   "name": "python3"
  },
  "language_info": {
   "codemirror_mode": {
    "name": "ipython",
    "version": 3
   },
   "file_extension": ".py",
   "mimetype": "text/x-python",
   "name": "python",
   "nbconvert_exporter": "python",
   "pygments_lexer": "ipython3",
   "version": "3.7.7"
  }
 },
 "nbformat": 4,
 "nbformat_minor": 4
}
