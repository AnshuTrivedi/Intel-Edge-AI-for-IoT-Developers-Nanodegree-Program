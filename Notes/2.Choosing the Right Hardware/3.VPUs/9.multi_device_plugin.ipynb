{
 "cells": [
  {
   "cell_type": "markdown",
   "metadata": {},
   "source": [
    "## Reasons to use multi device plugin\n",
    " * simple load sharing technique\n",
    " * Increase throughput \n",
    " * inference requests accross multiple devices CPU,GPU,MYRIAD\n",
    " * Granular options: CPU(2),GPU(2)"
   ]
  },
  {
   "cell_type": "markdown",
   "metadata": {},
   "source": [
    "## Application considerations\n",
    "* Need to saturate devices to see benefit\n",
    "* spread load inference accross all devices\n",
    "  * free up CPU for other tasks\n",
    "* Re order priority list"
   ]
  },
  {
   "cell_type": "markdown",
   "metadata": {},
   "source": [
    "**What is the Multi-Device plugin for?**\n",
    "\n",
    "It is way of sharing load accross multiple devices"
   ]
  },
  {
   "cell_type": "markdown",
   "metadata": {},
   "source": [
    "**about the multi-device plugin**\n",
    "* It can give you improved throughput (as compared to single device execution) \n",
    "* It can result in more consistent performance (because if one device is becoming to busy another device can take load)\n",
    "* To get improvement in performance ,there has to be enough data to share accross multiple devices"
   ]
  },
  {
   "cell_type": "markdown",
   "metadata": {},
   "source": [
    "***Let us suppose you want to run a model on the CPU, GPU, and Myriad. Which of these commands will work?**\n",
    "\n",
    "(Select all that apply.)\n",
    "\n",
    "MULTI: MYRIAD, CPU, GPU\n",
    "\n",
    "MULTI: MYRIAD, GPU, CPU\n",
    "\n",
    "MULTI: GPU, CPU, MYRIAD\n",
    "\n",
    "MULTI: CPU, GPU, MYRIAD\n",
    "\n",
    "`The order in which the devices are listed does prioritize the assignment of requests—so all of these commands will work, they would simply be prioritizing the devices differently.`"
   ]
  }
 ],
 "metadata": {
  "kernelspec": {
   "display_name": "Python 3",
   "language": "python",
   "name": "python3"
  },
  "language_info": {
   "codemirror_mode": {
    "name": "ipython",
    "version": 3
   },
   "file_extension": ".py",
   "mimetype": "text/x-python",
   "name": "python",
   "nbconvert_exporter": "python",
   "pygments_lexer": "ipython3",
   "version": "3.7.7"
  }
 },
 "nbformat": 4,
 "nbformat_minor": 4
}
