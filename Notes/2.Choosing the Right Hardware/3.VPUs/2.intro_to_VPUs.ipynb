{
 "cells": [
  {
   "cell_type": "markdown",
   "metadata": {},
   "source": [
    "# Introduction to VPUs"
   ]
  },
  {
   "cell_type": "markdown",
   "metadata": {},
   "source": [
    "In some situations, you may find that you need to `upgrade your system in order to improve the performance and run the types of inference you need—but you might not have the budget to fully replace your current hardware`.\n",
    "\n",
    "eg-For example, you might want to upgrade your processor, but discover that in order to install the new processor you would also need to upgrade the motherboard. This could be very expensive, possibly costing you $500 or more per machine."
   ]
  },
  {
   "cell_type": "markdown",
   "metadata": {},
   "source": [
    "**`Vision Processing Units (VPUs)`** `are accelerators that are specialized for AI tasks related to computer vision—such as Convolutional Neural Networks (CNNs) and image processing`."
   ]
  },
  {
   "cell_type": "markdown",
   "metadata": {},
   "source": [
    "### VPUs provide a cost-efficient way to add performance to a pre-existing system."
   ]
  },
  {
   "cell_type": "markdown",
   "metadata": {},
   "source": [
    "### Edge application: using smart camera \n",
    "\n",
    "* Why use edge?\n",
    "  * privacy of data\n",
    "  * low latency\n",
    "  * standalone\n",
    "  \n",
    "* Need a device that is \n",
    "  * small\n",
    "  * low power\n",
    "  * efficient"
   ]
  },
  {
   "cell_type": "markdown",
   "metadata": {},
   "source": [
    "`VPUs are small, low-cost, low-power devices that can dramatically improve the performance of a system without the need to upgrade the other hardware.`"
   ]
  },
  {
   "cell_type": "markdown",
   "metadata": {},
   "source": [
    "* Note that a `VPU is an accelerator, meaning it accelerates the performance of the pre-existing CPU.` \n",
    "* `The CPU doesn’t need to be a powerful one, since it will not actually be doing any calculations—we could use a simple Atom Processor or even a Raspberry Pi`—but it is needed in order to coordinate the flow of data to and from the VPU."
   ]
  },
  {
   "cell_type": "markdown",
   "metadata": {},
   "source": [
    "#### Characteristics of VPUs\n",
    "* low cost devices\n",
    "* low power devices\n",
    "* used to acclerate the pre-existing"
   ]
  }
 ],
 "metadata": {
  "kernelspec": {
   "display_name": "Python 3",
   "language": "python",
   "name": "python3"
  },
  "language_info": {
   "codemirror_mode": {
    "name": "ipython",
    "version": 3
   },
   "file_extension": ".py",
   "mimetype": "text/x-python",
   "name": "python",
   "nbconvert_exporter": "python",
   "pygments_lexer": "ipython3",
   "version": "3.7.7"
  }
 },
 "nbformat": 4,
 "nbformat_minor": 2
}
