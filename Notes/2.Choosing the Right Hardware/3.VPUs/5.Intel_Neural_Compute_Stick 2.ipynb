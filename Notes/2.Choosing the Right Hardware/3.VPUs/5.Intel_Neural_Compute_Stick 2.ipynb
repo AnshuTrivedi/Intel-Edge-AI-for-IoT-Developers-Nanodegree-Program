{
 "cells": [
  {
   "cell_type": "markdown",
   "metadata": {},
   "source": [
    "# Intel Neural Compute Stick 2"
   ]
  },
  {
   "cell_type": "markdown",
   "metadata": {},
   "source": [
    "We've discussed the architecture, characteristics, and advantages of VPUs, but we haven't yet discussed how you would actually connect one to a pre-existing system. One hardware solution is the Intel Neural Compute Stick 2."
   ]
  },
  {
   "cell_type": "markdown",
   "metadata": {},
   "source": [
    "`The Neural Compute Stick 2 (NCS2) is a USB3.1 plug and play removable VPU for AI inferencing.`"
   ]
  },
  {
   "cell_type": "markdown",
   "metadata": {},
   "source": [
    "### Here are the key features of the Intel NCS2:\n",
    "\n",
    "* **VPU.**\n",
    "\n",
    "The processor in the NCS2 is the Myriad X VPU.\n",
    "* **Software development kit.**\n",
    "\n",
    "With the integration of OpenVino Toolkit the Intel NCS2 offers pre-trained models to be run on the stick. This allows ease in the use of the hardware.\n",
    "* **Operating System.**\n",
    "\n",
    "The NCS2 supports all of the same operating systems as OpenVINO, including Ubuntu, Windows 10, and MacOS.\n",
    "* **Precision.**\n",
    "\n",
    "The NCS2 only supports FP16 model precision.\n",
    "* **Interface.**\n",
    "\n",
    "The NCS2 has a convenient USB3.1 plug and play interface. Note that the NCS2 can be used on systems with only a USB2 port, but the inference will run slower due to I/O throttling.\n",
    "* **Cost.**\n",
    "\n",
    "Compared to other AI accelerators, the NCS2 is an inexpensive option, typically costing around $70 to $100.\n",
    "* **Scalability.***\n",
    "\n",
    "Adding multiple NCS2s (or other Myriad X devices) will allow multiple inferences to run in parallel.\n",
    "* **Size.**\n",
    "\n",
    "All of these features come in a small size of 72.5mm X 27mm X 14mm, with the looks of a standard thumb drive."
   ]
  },
  {
   "cell_type": "markdown",
   "metadata": {},
   "source": [
    "### FPS vs. Power Tradeoff\n",
    "One other characteristic that is important to note about the NCS2 is that `it is meant to be a low-power device` so that it can be easily deployed at the edge; however, one drawback of this is that `it cannot process as many frames per second (FPS) as some other devices and thus it has a higher inference time`.\n",
    "\n",
    "For example, if we compare the NCS2 with an Atom E3950 processor, we can see that the `Atom will have better FPS, but higher power requirements`. The Atom processor (even though it is a relatively low-power processor) has about 12 times the power requirements of the NCS2. Thus, there is a tradeoff between power requirements and performance; the NCS2 is extremely low power, but this can come at some cost to performance as compared to the Atom."
   ]
  },
  {
   "cell_type": "markdown",
   "metadata": {},
   "source": [
    "Further Reading\n",
    "\n",
    "If you'd like to read more about Intel NCS2, you can check out the product brief [here.](https://software.intel.com/sites/default/files/managed/80/10/ncs2-product-brief.pdf)"
   ]
  }
 ],
 "metadata": {
  "kernelspec": {
   "display_name": "Python 3",
   "language": "python",
   "name": "python3"
  },
  "language_info": {
   "codemirror_mode": {
    "name": "ipython",
    "version": 3
   },
   "file_extension": ".py",
   "mimetype": "text/x-python",
   "name": "python",
   "nbconvert_exporter": "python",
   "pygments_lexer": "ipython3",
   "version": "3.7.7"
  }
 },
 "nbformat": 4,
 "nbformat_minor": 4
}
