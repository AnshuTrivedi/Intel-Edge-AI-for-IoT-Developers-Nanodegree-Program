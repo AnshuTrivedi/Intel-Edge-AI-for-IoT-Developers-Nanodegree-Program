{
 "cells": [
  {
   "cell_type": "markdown",
   "metadata": {},
   "source": [
    "**This lesson is all about Vision Processing Units (VPUs). In this lesson, we will learn about:**\n",
    "\n",
    "* The Architecture of VPUs\n",
    "  * what makes VPU ideal for deep learning and low power enough to make ideal for edge applications \n",
    "* The characteristics of a particular VPU, the **Myriad-X processor**\n",
    "  * Myriad X is small and low powered VPU supported by OpenVino\n",
    "  * used with neural compute stick,which is hardware accelerator with form factor similar to USB pen drive\n",
    "* The **Neural Compute Stick 2 (NCS2)**, which uses the Myriad-X Processor\n",
    "  * The characteristics of the NCS2\n",
    "  * How to access the NCS2 on the DevCloud\n",
    "* OpenVINO's **Multi-Device Plugin**\n",
    "  * How to run the same model on multiple devices at once using the Multi-Device Plugin\n",
    "  * How to use the Multi-Device Plugin on the DevCloud"
   ]
  }
 ],
 "metadata": {
  "kernelspec": {
   "display_name": "Python 3",
   "language": "python",
   "name": "python3"
  },
  "language_info": {
   "codemirror_mode": {
    "name": "ipython",
    "version": 3
   },
   "file_extension": ".py",
   "mimetype": "text/x-python",
   "name": "python",
   "nbconvert_exporter": "python",
   "pygments_lexer": "ipython3",
   "version": "3.7.7"
  }
 },
 "nbformat": 4,
 "nbformat_minor": 4
}
