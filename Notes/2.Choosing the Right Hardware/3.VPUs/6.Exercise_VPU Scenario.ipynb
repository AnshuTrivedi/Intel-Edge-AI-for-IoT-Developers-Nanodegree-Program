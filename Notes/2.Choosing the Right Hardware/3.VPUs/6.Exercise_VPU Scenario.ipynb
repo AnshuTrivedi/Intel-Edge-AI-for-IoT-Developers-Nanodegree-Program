{
 "cells": [
  {
   "cell_type": "markdown",
   "metadata": {},
   "source": [
    "## Exercise: VPU Scenario\n",
    "West Indian Bank has a surveillance system in each of their branches. They are exploring AI-based computer vision capabilities for two of their branches at Nagpur and Thane.\n",
    "\n",
    "## The Nagpur Branch\n",
    "In the Nagpur branch, they have an existing surveillance system that is currently monitored manually. The bank wants to enhance this system with edge AI to automatically detect potentially threatening individuals entering the bank.\n",
    "\n",
    "The Nagpur branch has already invested a lot of money on its surveillance system, so it has a limited budget of only around $100 for new devices and would also like to keep power requirements as low as possible.\n",
    "\n",
    "Provided below are the specifications for the Neural Compute Stick 2 and Xeon Processor.\n",
    "\n",
    "Which of these would potentially work for the Nagpur branch?"
   ]
  },
  {
   "cell_type": "markdown",
   "metadata": {},
   "source": [
    "#### Which requirements are essential while considering the hardware for this bank?\n",
    "1. Power consumed by device\n",
    "2. Cost of device"
   ]
  },
  {
   "cell_type": "markdown",
   "metadata": {},
   "source": [
    "#### Which hardware would be most appropriate for the Nagpur branch , NCS2 or Xeon processor?\n",
    "Intel NCS2"
   ]
  },
  {
   "cell_type": "markdown",
   "metadata": {},
   "source": [
    "## The Thane Branch\n",
    "The Thane branch, in contrast, currently has an old, highly outdated surveillance system that they want to completely remove and replace. Since profits at this branch have been very high recently, the bank has a large budget to install a totally new system with up-to-date equipment. As part of this upgrade, they also want to install edge AI to detect suspicious or fraudulent behavior inside the bank.\n",
    "\n",
    "As part of this new system, the bank will be installing about two dozen cameras that will all feed their data back to the edge device simultaneously. In order to effectively catch problematic behavior in time, inference on this data needs to be completed very quickly.\n",
    "\n",
    "Which of these would potentially work for the Thane branch?"
   ]
  },
  {
   "cell_type": "markdown",
   "metadata": {},
   "source": [
    "#### Which hardware would be most appropriate for the Thane branch?\n",
    "Intel Xeon Processor"
   ]
  },
  {
   "cell_type": "markdown",
   "metadata": {},
   "source": [
    "### Intel NCS2 Datasheet"
   ]
  },
  {
   "cell_type": "markdown",
   "metadata": {},
   "source": [
    "|Specifications\t|Intel Neural Compute Stick 2|\n",
    "|----------------|---------------------------|\n",
    "|Vision Processing Unit (VPU)\t|The Intel® Movidius™ Myriad™ X VPU|\n",
    "|Software development kit\t|Software development kit The Intel® Distribution of OpenVINO™ tool|\n",
    "|Operating Systems support|\tUbuntu 16.04.3 LTS (64 bit), Windows® 10 (64 bit), or CentOS 7.4 (64 bit)|\n",
    "|Supported framework\t|TensorFlow and Caffe|\n",
    "|Power Consumption\t|~1W|\n",
    "|Connectivity\t|USB 3.1 Type-A, USB 2.0 Type-A|\n",
    "|USB stick dimensions\t|72.5mm X 27mm X 14mm|\n",
    "|Operating temperature\t|0° - 40° C|\n",
    "|Material Master Number\t|964486|\n",
    "|MSRP\t|$69 USD July 14, 2019|"
   ]
  },
  {
   "cell_type": "markdown",
   "metadata": {},
   "source": [
    "## Intel Xeon Processor Datasheet\n"
   ]
  },
  {
   "cell_type": "markdown",
   "metadata": {},
   "source": [
    "|Code Name\t|Coffee Lake|\n",
    "|------------|----------|\n",
    "|Vertical Segment\t|Server|\n",
    "|Processor Number\t|E-2176G|\n",
    "|Status\t|Launched|\n",
    "|Launch Date\t|Q3'18|\n",
    "|Lithography\t|14 nm|\n",
    "|Recommended Customer Price|\t$362.00|\n",
    "|Use Conditions\t|PC/Client/Tablet|\n",
    "|# of Cores\t|6|\n",
    "|# of Threads|\t12|\n",
    "|Processor Base Frequency\t|3.70 GHz|\n",
    "|Max Turbo Frequency\t|4.70 GHz|\n",
    "|Cache\t|12 MB SmartCache|\n",
    "|Bus Speed\t|8 GT/s DMI3|\n",
    "|TDP\t|80 W|\n",
    "|Embedded Options Available|\tYes|\n",
    "|Operating Temperature\t|5 to 80C|\n",
    "|Max Memory Size (dependent on memory type)\t|64 GB|\n",
    "|Memory Types\t|DDR4-2666|\n",
    "|Max # of Memory Channels\t|2|\n",
    "|Max Memory Bandwidth\t|41.6 GB/s|\n",
    "|Processor Graphics\t|Intel® UHD Graphics P630|\n",
    "|Package Size\t|37.5mm x 37.5mm|"
   ]
  }
 ],
 "metadata": {
  "kernelspec": {
   "display_name": "Python 3",
   "language": "python",
   "name": "python3"
  },
  "language_info": {
   "codemirror_mode": {
    "name": "ipython",
    "version": 3
   },
   "file_extension": ".py",
   "mimetype": "text/x-python",
   "name": "python",
   "nbconvert_exporter": "python",
   "pygments_lexer": "ipython3",
   "version": "3.7.7"
  }
 },
 "nbformat": 4,
 "nbformat_minor": 4
}
