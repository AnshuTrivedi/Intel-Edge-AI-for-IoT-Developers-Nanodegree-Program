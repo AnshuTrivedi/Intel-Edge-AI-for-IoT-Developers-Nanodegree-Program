{
 "cells": [
  {
   "cell_type": "markdown",
   "metadata": {},
   "source": [
    "# Course Overview"
   ]
  },
  {
   "cell_type": "markdown",
   "metadata": {},
   "source": [
    "* As IoT devices become more common in our daily lives, an increasing number of industries—from advanced medical research and personalized healthcare to smart transportation and retail—are **relying on video for critical insights and competitive growth**. \n",
    "\n",
    "\n",
    "* Traditionally, AI and Machine Learning algorithms have been run either on cloud servers or on desktop systems with add-in GPUs, but there is an **increasing need to process data on local hardware devices**.\n",
    "\n",
    "**In this course, we'll cover four main hardware types:**\n",
    "\n",
    "* CPU\n",
    "* GPU\n",
    "* VPU\n",
    "* FPGA\n",
    "\n",
    "We'll discuss not only the specifications for these hardware types, but also:\n",
    "\n",
    "* How to figure out which devices are the best fit for your application.\n",
    "* How to determine what hardware to use with the OpenVino Toolkit and `match up the hardware, inference model, and the inference rate needed by your application.`"
   ]
  }
 ],
 "metadata": {
  "kernelspec": {
   "display_name": "Python 3",
   "language": "python",
   "name": "python3"
  },
  "language_info": {
   "codemirror_mode": {
    "name": "ipython",
    "version": 3
   },
   "file_extension": ".py",
   "mimetype": "text/x-python",
   "name": "python",
   "nbconvert_exporter": "python",
   "pygments_lexer": "ipython3",
   "version": "3.7.7"
  }
 },
 "nbformat": 4,
 "nbformat_minor": 2
}
