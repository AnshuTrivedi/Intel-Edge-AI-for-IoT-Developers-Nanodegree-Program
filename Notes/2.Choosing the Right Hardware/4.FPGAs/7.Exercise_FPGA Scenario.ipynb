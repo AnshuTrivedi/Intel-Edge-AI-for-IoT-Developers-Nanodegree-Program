{
 "cells": [
  {
   "cell_type": "markdown",
   "metadata": {},
   "source": [
    "## Exercise: FPGA Scenario\n",
    "Mr. Ben works for a small pharmaceutical company that has a manufacturing factory in Ireland. It is important to analyze each drug package they manufacture before it is shipped off to customers. This analysis involves counting the number of drug bottles inside a package. They have a strict time period of 500 ms to analyze each package. If they fail to perform the analysis in this time frame, their whole manufacturing pipeline will get delayed.\n",
    "\n",
    "The company is looking for ways to grow, but is much smaller than its competitors and has a very limited budget. Mr. Ben wants to find a low-cost way to ramp up production by 15% this quarter. To accomplish this, the analysis time will need to be improved so that it is completed within 300ms.\n",
    "\n",
    "At the moment, the company is using CPUs to perform this analysis, but the current processors are already functioning at capacity in order to achieve the 500 ms analysis time."
   ]
  },
  {
   "cell_type": "markdown",
   "metadata": {},
   "source": [
    "**QUESTION 1 OF 4**\n",
    "\n",
    "Which of the following requirements are essential in considering the hardware for this manufacturing factory?\n",
    "\n",
    "(Select all that apply.)\n",
    "1. power concumption by manufacturing unit\n",
    "2. Type of framework software supported\n",
    "3. Size of device that an be accomodated\n",
    "4. Temperature under which plant operates\n",
    "5. The cost of the device that can be afforded by the manufacturing plant\n",
    "\n",
    "ansewr: 5"
   ]
  },
  {
   "cell_type": "markdown",
   "metadata": {},
   "source": [
    "Given below are the datasheets for the NCS2 and the Intel Arria 10 FPGA. Which of these might work for Mr. Ben's needs?\n",
    "\n",
    "### Intel NCS2 Stick Datasheet\n",
    "|Specifications\t|Intel Neural Compute Stick 2|\n",
    "|---------------|-----------------------------|\n",
    "|Vision Processing Unit (VPU)\t|The Intel® Movidius™ Myriad™ X VPU|\n",
    "|Software development kit\t|Software development kit The Intel® Distribution of OpenVINO™ tool|\n",
    "|Operating Systems support\t|Ubuntu 16.04.3 LTS (64 bit), Windows® 10 (64 bit), or CentOS 7.4 (64 bit)|\n",
    "|Supported framework|\tTensorFlow and Caffe|\n",
    "|Power Consumption|\t~1W|\n",
    "|Connectivity\t|USB 3.1 Type-A, USB 2.0 Type-A|\n",
    "|USB stick dimensions\t|72.5mm X 27mm X 14mm|\n",
    "|Operating temperature\t|0° - 40° C|\n",
    "|Material Master Number\t|964486|\n",
    "|MSRP\t|$69 USD July 14, 2019|\n",
    "\n",
    "## Intel Arria 10 FPGA datasheet\n",
    "|Model Name\t|Mustang-F100-A10|\n",
    "|--------------|--------------|\n",
    "|Main FPGA\t|Intel® Arria® 10 GX1150 FPGA|\n",
    "|Operating Systems\t|Ubuntu 16.04.3 LTS 64-bit, CentOS 7.4 64-bit (Support Windows® 10 in the end of 2018 & more OS are coming soon)|\n",
    "|Voltage Regulator and Power Supply|\tIntel® Enpirion® Power Solutions|\n",
    "|Memory|\t8G on board DDR4|\n",
    "|Dataplane Interface\t|PCI Express x8|\n",
    "|Power Consumption|\t40W Typical|\n",
    "|Operating Temperature|\t5°C~60°C (ambient temperature)|\n",
    "|Operating Humidity|\t5% ~ 90%|\n",
    "|MSRP\t|Approx~ $1,600|\n",
    "|Minimum dimensions ( H x W x D)|\t17.14 x 25.4 x 5.08 cm|\n",
    "|Power Connector Preserved |PCIe 6-pin 12V external power|"
   ]
  },
  {
   "cell_type": "markdown",
   "metadata": {},
   "source": [
    "**QUESTION 2 OF 4**\n",
    "\n",
    "Which hardware would be most appropriate for the manufacturing plant?\n",
    "\n",
    "1. NCS2 Stick\n",
    "2. Intel Arria 10 FPGA\n",
    "\n",
    "answer: 1"
   ]
  },
  {
   "cell_type": "markdown",
   "metadata": {},
   "source": [
    "With the increase in production made by reducing the analysis time, Mr. Ben was able to significantly improve revenue this quarter. He now wants to ramp up his production further and has set a new target of completing the analysis within the much shorter time window of 50 ms.\n",
    "\n",
    "Furthermore, Mr. Ben wants to make his factory lean and adapt to changing market requirements. So, instead of manufacturing just drugs, he now also wants to manufacture other pharmaceutical products and possibly even medical equipment.\n",
    "\n",
    "Thus, Mr. Ben would like to install a new system that not only dramatically improves his inference time, but can also be modified as needed to do an analysis of other products."
   ]
  },
  {
   "cell_type": "markdown",
   "metadata": {},
   "source": [
    "**QUESTION 3 OF 4**\n",
    "\n",
    "Which of the following factors are relevant in this case?\n",
    "\n",
    "(Select all that apply.)\n",
    "\n",
    "1. Power consumption by the manufacturing plant\n",
    "2. Types of software framework supported\n",
    "3. Flexibility / Reprogrammability\n",
    "4. Performance\n",
    "5. Temperature under which plant operates\n",
    "6. Budget\n",
    "\n",
    "answer:3,4,6"
   ]
  },
  {
   "cell_type": "markdown",
   "metadata": {},
   "source": [
    "**QUESTION 4 OF 4**\n",
    "\n",
    "Which hardware might work in this case?\n",
    "\n",
    "1. Intel NCS2 Stick\n",
    "2. Intel Arria 10 FPGA"
   ]
  }
 ],
 "metadata": {
  "kernelspec": {
   "display_name": "Python 3",
   "language": "python",
   "name": "python3"
  },
  "language_info": {
   "codemirror_mode": {
    "name": "ipython",
    "version": 3
   },
   "file_extension": ".py",
   "mimetype": "text/x-python",
   "name": "python",
   "nbconvert_exporter": "python",
   "pygments_lexer": "ipython3",
   "version": "3.7.7"
  }
 },
 "nbformat": 4,
 "nbformat_minor": 4
}
