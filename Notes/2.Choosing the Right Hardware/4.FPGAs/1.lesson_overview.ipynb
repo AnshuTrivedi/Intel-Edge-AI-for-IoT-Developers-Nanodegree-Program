{
 "cells": [
  {
   "cell_type": "markdown",
   "metadata": {},
   "source": [
    "In this lesson, we will learn about Field Programmable Gate Arrays (FPGAs). In the first half of the lesson, we'll look at the key concepts and characteristics that you'll need to know about FPGAs, including:\n",
    "\n",
    "* Architecture of FPGAs\n",
    "* Programming FPGAs\n",
    "* Turning Your FPGA into an AI Accelerator\n",
    "* Specifications of FPGAs\n",
    "\n",
    "Then we'll get some hands-on practice by:\n",
    "\n",
    "* Running inference using an FPGA in the DevCloud\n",
    "* Using the heterogeneous (HETERO) plugin"
   ]
  }
 ],
 "metadata": {
  "kernelspec": {
   "display_name": "Python 3",
   "language": "python",
   "name": "python3"
  },
  "language_info": {
   "codemirror_mode": {
    "name": "ipython",
    "version": 3
   },
   "file_extension": ".py",
   "mimetype": "text/x-python",
   "name": "python",
   "nbconvert_exporter": "python",
   "pygments_lexer": "ipython3",
   "version": "3.7.7"
  }
 },
 "nbformat": 4,
 "nbformat_minor": 4
}
