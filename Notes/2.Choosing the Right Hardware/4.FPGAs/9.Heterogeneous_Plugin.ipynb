{
 "cells": [
  {
   "cell_type": "markdown",
   "metadata": {},
   "source": [
    "## Heterogeneous Plugin"
   ]
  },
  {
   "cell_type": "markdown",
   "metadata": {},
   "source": [
    "Heterogeneous Plugin\n",
    "When running OpenVINO on a device, it's important to understand that not all layers are supported on each hardware type. OpenVINO documentation has a [list of supported layers for each device](https://docs.openvinotoolkit.org/latest/_docs_IE_DG_supported_plugins_Supported_Devices.html). Here are a few examples from the documentation:"
   ]
  },
  {
   "cell_type": "markdown",
   "metadata": {},
   "source": [
    "|Layers|\tGPU\t|CPU\t|VPU\t|FPGA|\n",
    "|-------|--------|-------|-------|----|\n",
    "||Abs\t|Supported|\tSupported|\tNot Supported\t|Not Supported|\n",
    "|Acos\t|Supported\t|Supported\t|Not Supported|\tNot Supported|\n",
    "|Acosh\t|Supported\t|Supported\t|Not Supported\t|Not Supported|\n",
    "|Activation Clamp\t|Supported\t|Supported\t|Supported|\tSupported|"
   ]
  },
  {
   "cell_type": "markdown",
   "metadata": {},
   "source": [
    "As you can see, FPGAs have limited layer support. And attempting to run an unsupported layer will cause the app to crash. What we would like to do is be able to run our model primarily on the FPGA, but if an unsupported layer is needed, have this run on a device where it is supported rather than crashing. We can accomplish this goal using OpenVINO's heterogeneous (HETERO) plugin.\n",
    "\n",
    "**`The heterogeneous (HETERO) plugin allows you to specify the primary device, as well as one or more fallback devices that should be used in the event that the primary device does not support the layers in your model.`**"
   ]
  },
  {
   "cell_type": "markdown",
   "metadata": {},
   "source": [
    "`The HETERO plugin enables efficient hardware utilization by running inference for one model across several hardware devices.`"
   ]
  },
  {
   "cell_type": "markdown",
   "metadata": {},
   "source": [
    "## Heterogeneous plugin\n",
    "* **Efficient hardware utilization**\n",
    "  * Uses all hardware to its full capacity\n",
    "* **Specify primary device and fallback device**\n",
    "  * HETERO : FPGA,CPU\n",
    "   * HETERO : VPU,GPU,CPU\n",
    "* **CAVEATS**\n",
    "  * transfering data takes time\n",
    "  * Greedy behaviour\n"
   ]
  },
  {
   "cell_type": "markdown",
   "metadata": {},
   "source": [
    "A couple of things to keep in mind when using HETERO:\n",
    "\n",
    "* Transferring the data back and forth between devices will impact the inference time, and the `overhead of multiple trips` may make the use of the FPGA not worthwhile.\n",
    "* The HETERO plugin automatically adopts a `greedy behavior` and assigns all layers that can be executed to the first device in the prioritized list. This assignment may not be optimal. If you want to assign layers in a more granular fashion, you can use the **`affinity option`**, which you can read more about [here](https://docs.openvinotoolkit.org/latest/_docs_IE_DG_supported_plugins_HETERO.html). Being able to assign specific layers to particular devices can also be helpful in debugging."
   ]
  },
  {
   "cell_type": "markdown",
   "metadata": {},
   "source": [
    "Further Reading\n",
    "\n",
    "You can read more about the HETERO plugin [here.](https://docs.openvinotoolkit.org/latest/_docs_IE_DG_supported_plugins_HETERO.html)"
   ]
  }
 ],
 "metadata": {
  "kernelspec": {
   "display_name": "Python 3",
   "language": "python",
   "name": "python3"
  },
  "language_info": {
   "codemirror_mode": {
    "name": "ipython",
    "version": 3
   },
   "file_extension": ".py",
   "mimetype": "text/x-python",
   "name": "python",
   "nbconvert_exporter": "python",
   "pygments_lexer": "ipython3",
   "version": "3.7.7"
  }
 },
 "nbformat": 4,
 "nbformat_minor": 4
}
