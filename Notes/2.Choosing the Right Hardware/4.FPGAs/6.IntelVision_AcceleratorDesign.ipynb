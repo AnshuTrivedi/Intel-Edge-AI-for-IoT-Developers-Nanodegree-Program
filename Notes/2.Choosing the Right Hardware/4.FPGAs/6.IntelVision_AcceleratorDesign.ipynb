{
 "cells": [
  {
   "cell_type": "markdown",
   "metadata": {},
   "source": [
    "Now that we know some of the key characteristics of FPGAs, we'll start looking at how to run inference on one using the Intel DevCloud.` When you want to use an FPGA with OpenVINO on the DevCloud, you can use the Intel Vision Accelerator Design (VAD) with Intel Arria FPGA.`"
   ]
  },
  {
   "cell_type": "markdown",
   "metadata": {},
   "source": [
    "* **The FPGA toolkit is only available for Linux distributions.**\n",
    "\n",
    "   You can develop a Python program in Jupyter Notebook on MAC or Windows and run it on the CPU, but when its deployed on an        FPGA on the DevCloud the Edge System OS is Ubuntu. This means that filenames, paths, and devices—such as cameras—need to be      converted to work on Linux. Most often the biggest change is the path to the network XML file, and the image or video source     location.\n",
    "\n",
    "* **The network that you choose for your inference must have a matching bitstream loaded before inference**\n",
    "\n",
    "  .This matches up the primitive in the bitstream with the layers in the network. Remember, you're programming the FPGA to be a    custom accelerator specifically for the network you want to run.\n",
    "\n",
    "\n",
    "* **The Deep Learning Acceleration (or DLA) can be used to add extensions to support custom layers.**\n",
    "For this class, we will just be using the supplied bitstreams, but this is something to be aware of for later.\n",
    "\n",
    "\n",
    "* **The bitstream filename you're using in the DevCloud must be up to date**\n",
    "\n",
    ". The bitstreams supplied with OpenVINO are specific to a particular OpenVINO version. Therefore, if you try an OpenVino example that was written for an earlier version of OpenVINO, you will need to update or edit the bitstream filename for the current version that is supported by the FPGA in the DevCloud."
   ]
  },
  {
   "cell_type": "markdown",
   "metadata": {},
   "source": [
    "Further Reading\n",
    "\n",
    "If you'd like to learn more, you can check out the white paper on the [Intel Vision Accelerator Design (VAD) with Intel Arria FPGA.](https://www.intel.com/content/dam/www/programmable/us/en/pdfs/literature/wp/intel-vision-accelerator-design-with-FPGA-wp.pdf)"
   ]
  }
 ],
 "metadata": {
  "kernelspec": {
   "display_name": "Python 3",
   "language": "python",
   "name": "python3"
  },
  "language_info": {
   "codemirror_mode": {
    "name": "ipython",
    "version": 3
   },
   "file_extension": ".py",
   "mimetype": "text/x-python",
   "name": "python",
   "nbconvert_exporter": "python",
   "pygments_lexer": "ipython3",
   "version": "3.7.7"
  }
 },
 "nbformat": 4,
 "nbformat_minor": 4
}
