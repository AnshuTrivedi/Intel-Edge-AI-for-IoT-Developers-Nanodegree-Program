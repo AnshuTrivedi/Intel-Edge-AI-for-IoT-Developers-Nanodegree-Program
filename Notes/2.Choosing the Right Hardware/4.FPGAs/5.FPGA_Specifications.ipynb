{
 "cells": [
  {
   "cell_type": "markdown",
   "metadata": {},
   "source": [
    "# FPGA Specifications"
   ]
  },
  {
   "cell_type": "markdown",
   "metadata": {},
   "source": [
    "* **`High performance, low latency.`**\n",
    "  * Once programmed with a suitable bitstream, FPGAs can execute neural networks with high performance and very little latency\n",
    "  \n",
    "  * The high performance comes from the ability to run many sections of the FPGA in parallel.\n",
    "  * FPGAs also flow the data from one layer to the next, while keeping the data from one output to the next input layer on the       same FPGA device. \n",
    "  * When running a neural network, we run the whole thing on the FPGA so the FPGAs don't go off-chip for the memory. This is         faster than sending the output back to the CPU over the PCIe bus.\n",
    "\n",
    "\n",
    "* **`Flexibility.`**\n",
    "FPGAs are flexible in a few different ways:\n",
    "\n",
    "1. They are field-programmable; they can be reprogrammed to adapt to new, evolving, and custom networks\n",
    "2. Various precision options (FP16, 11 and 9 bit ) are supported—allowing developers a balance between speed and accuracy.\n",
    "3. The bitstreams being used can be updated without changing the hardware. This allows you to improve the performance of your system without replacing the FPGA.\n",
    "\n",
    "\n",
    "* **`Large Networks.`**\n",
    "  One feature of FPGAs that makes them especially useful in deep learning is that they can support large networks, with a         capacity to handle networks that have more than 2 million parameters.\n",
    "\n",
    "\n",
    "* **`Robust.`** \n",
    "FPGAs are designed to have 100% on-time performance, meaning they can be continuously running 24 hours a day, 7 days a week, 365 days a year. They are also able to function over a wide range of temperatures, from 0° C to 60° C. This means that FPGAs can be deployed in harsh environments like factory floors and still perform optimally.\n",
    "\n",
    "\n",
    "* **`Long Lifespan.`**\n",
    "FPGAs have a long lifespan. For example, FPGAs that use devices from Intel’s Internet of Things Group have a guaranteed availability of 10 years, from start of production.\n"
   ]
  }
 ],
 "metadata": {
  "kernelspec": {
   "display_name": "Python 3",
   "language": "python",
   "name": "python3"
  },
  "language_info": {
   "codemirror_mode": {
    "name": "ipython",
    "version": 3
   },
   "file_extension": ".py",
   "mimetype": "text/x-python",
   "name": "python",
   "nbconvert_exporter": "python",
   "pygments_lexer": "ipython3",
   "version": "3.7.7"
  }
 },
 "nbformat": 4,
 "nbformat_minor": 4
}
